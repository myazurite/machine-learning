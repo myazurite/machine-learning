{
 "cells": [
  {
   "cell_type": "code",
   "execution_count": 24,
   "metadata": {},
   "outputs": [],
   "source": [
    "import os\n",
    "import pandas as pd\n",
    "import numpy as np\n",
    "import matplotlib.pyplot as plt\n",
    "from sklearn.linear_model import LinearRegression\n",
    "from sklearn.preprocessing import MinMaxScaler\n",
    "from sklearn.metrics import mean_absolute_error, mean_squared_error, r2_score"
   ]
  },
  {
   "cell_type": "markdown",
   "metadata": {},
   "source": [
    "Pandas read_csv:"
   ]
  },
  {
   "cell_type": "code",
   "execution_count": 25,
   "metadata": {},
   "outputs": [
    {
     "data": {
      "text/html": [
       "<div>\n",
       "<style scoped>\n",
       "    .dataframe tbody tr th:only-of-type {\n",
       "        vertical-align: middle;\n",
       "    }\n",
       "\n",
       "    .dataframe tbody tr th {\n",
       "        vertical-align: top;\n",
       "    }\n",
       "\n",
       "    .dataframe thead th {\n",
       "        text-align: right;\n",
       "    }\n",
       "</style>\n",
       "<table border=\"1\" class=\"dataframe\">\n",
       "  <thead>\n",
       "    <tr style=\"text-align: right;\">\n",
       "      <th></th>\n",
       "      <th>date</th>\n",
       "      <th>store</th>\n",
       "      <th>item</th>\n",
       "      <th>sales</th>\n",
       "    </tr>\n",
       "  </thead>\n",
       "  <tbody>\n",
       "    <tr>\n",
       "      <th>0</th>\n",
       "      <td>2013-01-01</td>\n",
       "      <td>1</td>\n",
       "      <td>1</td>\n",
       "      <td>13</td>\n",
       "    </tr>\n",
       "    <tr>\n",
       "      <th>1</th>\n",
       "      <td>2013-01-02</td>\n",
       "      <td>1</td>\n",
       "      <td>1</td>\n",
       "      <td>11</td>\n",
       "    </tr>\n",
       "    <tr>\n",
       "      <th>2</th>\n",
       "      <td>2013-01-03</td>\n",
       "      <td>1</td>\n",
       "      <td>1</td>\n",
       "      <td>14</td>\n",
       "    </tr>\n",
       "    <tr>\n",
       "      <th>3</th>\n",
       "      <td>2013-01-04</td>\n",
       "      <td>1</td>\n",
       "      <td>1</td>\n",
       "      <td>13</td>\n",
       "    </tr>\n",
       "    <tr>\n",
       "      <th>4</th>\n",
       "      <td>2013-01-05</td>\n",
       "      <td>1</td>\n",
       "      <td>1</td>\n",
       "      <td>10</td>\n",
       "    </tr>\n",
       "    <tr>\n",
       "      <th>5</th>\n",
       "      <td>2013-01-06</td>\n",
       "      <td>1</td>\n",
       "      <td>1</td>\n",
       "      <td>12</td>\n",
       "    </tr>\n",
       "    <tr>\n",
       "      <th>6</th>\n",
       "      <td>2013-01-07</td>\n",
       "      <td>1</td>\n",
       "      <td>1</td>\n",
       "      <td>10</td>\n",
       "    </tr>\n",
       "    <tr>\n",
       "      <th>7</th>\n",
       "      <td>2013-01-08</td>\n",
       "      <td>1</td>\n",
       "      <td>1</td>\n",
       "      <td>9</td>\n",
       "    </tr>\n",
       "    <tr>\n",
       "      <th>8</th>\n",
       "      <td>2013-01-09</td>\n",
       "      <td>1</td>\n",
       "      <td>1</td>\n",
       "      <td>12</td>\n",
       "    </tr>\n",
       "    <tr>\n",
       "      <th>9</th>\n",
       "      <td>2013-01-10</td>\n",
       "      <td>1</td>\n",
       "      <td>1</td>\n",
       "      <td>9</td>\n",
       "    </tr>\n",
       "  </tbody>\n",
       "</table>\n",
       "</div>"
      ],
      "text/plain": [
       "         date  store  item  sales\n",
       "0  2013-01-01      1     1     13\n",
       "1  2013-01-02      1     1     11\n",
       "2  2013-01-03      1     1     14\n",
       "3  2013-01-04      1     1     13\n",
       "4  2013-01-05      1     1     10\n",
       "5  2013-01-06      1     1     12\n",
       "6  2013-01-07      1     1     10\n",
       "7  2013-01-08      1     1      9\n",
       "8  2013-01-09      1     1     12\n",
       "9  2013-01-10      1     1      9"
      ]
     },
     "execution_count": 25,
     "metadata": {},
     "output_type": "execute_result"
    }
   ],
   "source": [
    "store_sales = pd.read_csv('store_sale.csv')\n",
    "store_sales.head(10)"
   ]
  },
  {
   "cell_type": "markdown",
   "metadata": {},
   "source": [
    "Check null value"
   ]
  },
  {
   "cell_type": "code",
   "execution_count": 26,
   "metadata": {},
   "outputs": [
    {
     "name": "stdout",
     "output_type": "stream",
     "text": [
      "<class 'pandas.core.frame.DataFrame'>\n",
      "RangeIndex: 913000 entries, 0 to 912999\n",
      "Data columns (total 4 columns):\n",
      " #   Column  Non-Null Count   Dtype \n",
      "---  ------  --------------   ----- \n",
      " 0   date    913000 non-null  object\n",
      " 1   store   913000 non-null  int64 \n",
      " 2   item    913000 non-null  int64 \n",
      " 3   sales   913000 non-null  int64 \n",
      "dtypes: int64(3), object(1)\n",
      "memory usage: 27.9+ MB\n"
     ]
    }
   ],
   "source": [
    "store_sales.info()"
   ]
  },
  {
   "cell_type": "markdown",
   "metadata": {},
   "source": [
    "Disregard the columns representing the Store ID and Item ID"
   ]
  },
  {
   "cell_type": "code",
   "execution_count": 27,
   "metadata": {},
   "outputs": [],
   "source": [
    "store_sales = store_sales.drop(['store','item'], axis=1)"
   ]
  },
  {
   "cell_type": "markdown",
   "metadata": {},
   "source": [
    "Convert date object to a DateTime datatype so that it can be used for further calculations"
   ]
  },
  {
   "cell_type": "code",
   "execution_count": 28,
   "metadata": {},
   "outputs": [],
   "source": [
    "store_sales['date'] = pd.to_datetime(store_sales['date'])"
   ]
  },
  {
   "cell_type": "markdown",
   "metadata": {},
   "source": [
    "Train the models to predict the sales in the next month. Convert date to a period of ‘Month’ and then sum the number of items sold in each month"
   ]
  },
  {
   "cell_type": "code",
   "execution_count": 29,
   "metadata": {},
   "outputs": [],
   "source": [
    "store_sales['date'] = store_sales['date'].dt.to_period('M')\n",
    "monthly_sales = store_sales.groupby('date').sum().reset_index()"
   ]
  },
  {
   "cell_type": "markdown",
   "metadata": {},
   "source": [
    "Convert the resulting ‘date’ column to timestamp datatype"
   ]
  },
  {
   "cell_type": "code",
   "execution_count": 30,
   "metadata": {},
   "outputs": [
    {
     "data": {
      "text/html": [
       "<div>\n",
       "<style scoped>\n",
       "    .dataframe tbody tr th:only-of-type {\n",
       "        vertical-align: middle;\n",
       "    }\n",
       "\n",
       "    .dataframe tbody tr th {\n",
       "        vertical-align: top;\n",
       "    }\n",
       "\n",
       "    .dataframe thead th {\n",
       "        text-align: right;\n",
       "    }\n",
       "</style>\n",
       "<table border=\"1\" class=\"dataframe\">\n",
       "  <thead>\n",
       "    <tr style=\"text-align: right;\">\n",
       "      <th></th>\n",
       "      <th>date</th>\n",
       "      <th>sales</th>\n",
       "    </tr>\n",
       "  </thead>\n",
       "  <tbody>\n",
       "    <tr>\n",
       "      <th>0</th>\n",
       "      <td>2013-01-01</td>\n",
       "      <td>454904</td>\n",
       "    </tr>\n",
       "    <tr>\n",
       "      <th>1</th>\n",
       "      <td>2013-02-01</td>\n",
       "      <td>459417</td>\n",
       "    </tr>\n",
       "    <tr>\n",
       "      <th>2</th>\n",
       "      <td>2013-03-01</td>\n",
       "      <td>617382</td>\n",
       "    </tr>\n",
       "    <tr>\n",
       "      <th>3</th>\n",
       "      <td>2013-04-01</td>\n",
       "      <td>682274</td>\n",
       "    </tr>\n",
       "    <tr>\n",
       "      <th>4</th>\n",
       "      <td>2013-05-01</td>\n",
       "      <td>763242</td>\n",
       "    </tr>\n",
       "    <tr>\n",
       "      <th>5</th>\n",
       "      <td>2013-06-01</td>\n",
       "      <td>795597</td>\n",
       "    </tr>\n",
       "    <tr>\n",
       "      <th>6</th>\n",
       "      <td>2013-07-01</td>\n",
       "      <td>855922</td>\n",
       "    </tr>\n",
       "    <tr>\n",
       "      <th>7</th>\n",
       "      <td>2013-08-01</td>\n",
       "      <td>766761</td>\n",
       "    </tr>\n",
       "    <tr>\n",
       "      <th>8</th>\n",
       "      <td>2013-09-01</td>\n",
       "      <td>689907</td>\n",
       "    </tr>\n",
       "    <tr>\n",
       "      <th>9</th>\n",
       "      <td>2013-10-01</td>\n",
       "      <td>656587</td>\n",
       "    </tr>\n",
       "  </tbody>\n",
       "</table>\n",
       "</div>"
      ],
      "text/plain": [
       "        date   sales\n",
       "0 2013-01-01  454904\n",
       "1 2013-02-01  459417\n",
       "2 2013-03-01  617382\n",
       "3 2013-04-01  682274\n",
       "4 2013-05-01  763242\n",
       "5 2013-06-01  795597\n",
       "6 2013-07-01  855922\n",
       "7 2013-08-01  766761\n",
       "8 2013-09-01  689907\n",
       "9 2013-10-01  656587"
      ]
     },
     "execution_count": 30,
     "metadata": {},
     "output_type": "execute_result"
    }
   ],
   "source": [
    "monthly_sales['date'] = monthly_sales['date'].dt.to_timestamp()\n",
    "monthly_sales.head(10)"
   ]
  },
  {
   "cell_type": "markdown",
   "metadata": {},
   "source": [
    "Visualize the monthly sales of the items"
   ]
  },
  {
   "cell_type": "code",
   "execution_count": 31,
   "metadata": {},
   "outputs": [
    {
     "data": {
      "image/png": "[encoded data removed]",
      "text/plain": [
       "<Figure size 1080x360 with 1 Axes>"
      ]
     },
     "metadata": {
      "needs_background": "light"
     },
     "output_type": "display_data"
    }
   ],
   "source": [
    "plt.figure(figsize=(15,5))\n",
    "plt.plot(monthly_sales['date'], monthly_sales['sales'])\n",
    "plt.xlabel('Date')\n",
    "plt.xlabel('Sales')\n",
    "plt.title(\"Monthly Customer Sales\")\n",
    "plt.show()"
   ]
  },
  {
   "cell_type": "markdown",
   "metadata": {},
   "source": [
    "Make the sale data stationery"
   ]
  },
  {
   "cell_type": "code",
   "execution_count": 32,
   "metadata": {},
   "outputs": [
    {
     "data": {
      "text/html": [
       "<div>\n",
       "<style scoped>\n",
       "    .dataframe tbody tr th:only-of-type {\n",
       "        vertical-align: middle;\n",
       "    }\n",
       "\n",
       "    .dataframe tbody tr th {\n",
       "        vertical-align: top;\n",
       "    }\n",
       "\n",
       "    .dataframe thead th {\n",
       "        text-align: right;\n",
       "    }\n",
       "</style>\n",
       "<table border=\"1\" class=\"dataframe\">\n",
       "  <thead>\n",
       "    <tr style=\"text-align: right;\">\n",
       "      <th></th>\n",
       "      <th>date</th>\n",
       "      <th>sales</th>\n",
       "      <th>sales_diff</th>\n",
       "    </tr>\n",
       "  </thead>\n",
       "  <tbody>\n",
       "    <tr>\n",
       "      <th>1</th>\n",
       "      <td>2013-02-01</td>\n",
       "      <td>459417</td>\n",
       "      <td>4513.0</td>\n",
       "    </tr>\n",
       "    <tr>\n",
       "      <th>2</th>\n",
       "      <td>2013-03-01</td>\n",
       "      <td>617382</td>\n",
       "      <td>157965.0</td>\n",
       "    </tr>\n",
       "    <tr>\n",
       "      <th>3</th>\n",
       "      <td>2013-04-01</td>\n",
       "      <td>682274</td>\n",
       "      <td>64892.0</td>\n",
       "    </tr>\n",
       "    <tr>\n",
       "      <th>4</th>\n",
       "      <td>2013-05-01</td>\n",
       "      <td>763242</td>\n",
       "      <td>80968.0</td>\n",
       "    </tr>\n",
       "    <tr>\n",
       "      <th>5</th>\n",
       "      <td>2013-06-01</td>\n",
       "      <td>795597</td>\n",
       "      <td>32355.0</td>\n",
       "    </tr>\n",
       "    <tr>\n",
       "      <th>6</th>\n",
       "      <td>2013-07-01</td>\n",
       "      <td>855922</td>\n",
       "      <td>60325.0</td>\n",
       "    </tr>\n",
       "    <tr>\n",
       "      <th>7</th>\n",
       "      <td>2013-08-01</td>\n",
       "      <td>766761</td>\n",
       "      <td>-89161.0</td>\n",
       "    </tr>\n",
       "    <tr>\n",
       "      <th>8</th>\n",
       "      <td>2013-09-01</td>\n",
       "      <td>689907</td>\n",
       "      <td>-76854.0</td>\n",
       "    </tr>\n",
       "    <tr>\n",
       "      <th>9</th>\n",
       "      <td>2013-10-01</td>\n",
       "      <td>656587</td>\n",
       "      <td>-33320.0</td>\n",
       "    </tr>\n",
       "    <tr>\n",
       "      <th>10</th>\n",
       "      <td>2013-11-01</td>\n",
       "      <td>692643</td>\n",
       "      <td>36056.0</td>\n",
       "    </tr>\n",
       "  </tbody>\n",
       "</table>\n",
       "</div>"
      ],
      "text/plain": [
       "         date   sales  sales_diff\n",
       "1  2013-02-01  459417      4513.0\n",
       "2  2013-03-01  617382    157965.0\n",
       "3  2013-04-01  682274     64892.0\n",
       "4  2013-05-01  763242     80968.0\n",
       "5  2013-06-01  795597     32355.0\n",
       "6  2013-07-01  855922     60325.0\n",
       "7  2013-08-01  766761    -89161.0\n",
       "8  2013-09-01  689907    -76854.0\n",
       "9  2013-10-01  656587    -33320.0\n",
       "10 2013-11-01  692643     36056.0"
      ]
     },
     "execution_count": 32,
     "metadata": {},
     "output_type": "execute_result"
    }
   ],
   "source": [
    "monthly_sales['sales_diff'] = monthly_sales['sales'].diff()\n",
    "monthly_sales = monthly_sales.dropna()\n",
    "monthly_sales.head(10)"
   ]
  },
  {
   "cell_type": "code",
   "execution_count": 33,
   "metadata": {},
   "outputs": [
    {
     "data": {
      "image/png": "[encoded data removed]",
      "text/plain": [
       "<Figure size 1080x360 with 1 Axes>"
      ]
     },
     "metadata": {
      "needs_background": "light"
     },
     "output_type": "display_data"
    }
   ],
   "source": [
    "plt.figure(figsize=(15,5))\n",
    "plt.plot(monthly_sales['date'], monthly_sales['sales_diff'])\n",
    "plt.xlabel('Date')\n",
    "plt.xlabel('Sales')\n",
    "plt.title(\"Monthly Customer Sales Diff\")\n",
    "plt.show()"
   ]
  },
  {
   "cell_type": "markdown",
   "metadata": {},
   "source": [
    "Train the models to predict the sale of the items in the next month by looking at the sale of items in a specific number of previous months, we need to prepare a supervised dataset to feed into the machine learning model"
   ]
  },
  {
   "cell_type": "code",
   "execution_count": 34,
   "metadata": {},
   "outputs": [],
   "source": [
    "supverised_data = monthly_sales.drop(['date','sales'], axis=1)"
   ]
  },
  {
   "cell_type": "markdown",
   "metadata": {},
   "source": [
    "Prepare the supervised data such that the previous 12-month sale data is advertised as the input features and the 13th-month sale data is used as the output for the supervised learning models"
   ]
  },
  {
   "cell_type": "code",
   "execution_count": 35,
   "metadata": {},
   "outputs": [],
   "source": [
    "for i in range(1,13):\n",
    "    col_name = 'month_' + str(i)\n",
    "    supverised_data[col_name] = supverised_data['sales_diff'].shift(i)"
   ]
  },
  {
   "cell_type": "code",
   "execution_count": 36,
   "metadata": {},
   "outputs": [
    {
     "data": {
      "text/html": [
       "<div>\n",
       "<style scoped>\n",
       "    .dataframe tbody tr th:only-of-type {\n",
       "        vertical-align: middle;\n",
       "    }\n",
       "\n",
       "    .dataframe tbody tr th {\n",
       "        vertical-align: top;\n",
       "    }\n",
       "\n",
       "    .dataframe thead th {\n",
       "        text-align: right;\n",
       "    }\n",
       "</style>\n",
       "<table border=\"1\" class=\"dataframe\">\n",
       "  <thead>\n",
       "    <tr style=\"text-align: right;\">\n",
       "      <th></th>\n",
       "      <th>sales_diff</th>\n",
       "      <th>month_1</th>\n",
       "      <th>month_2</th>\n",
       "      <th>month_3</th>\n",
       "      <th>month_4</th>\n",
       "      <th>month_5</th>\n",
       "      <th>month_6</th>\n",
       "      <th>month_7</th>\n",
       "      <th>month_8</th>\n",
       "      <th>month_9</th>\n",
       "      <th>month_10</th>\n",
       "      <th>month_11</th>\n",
       "      <th>month_12</th>\n",
       "    </tr>\n",
       "  </thead>\n",
       "  <tbody>\n",
       "    <tr>\n",
       "      <th>0</th>\n",
       "      <td>3130.0</td>\n",
       "      <td>19380.0</td>\n",
       "      <td>-186036.0</td>\n",
       "      <td>36056.0</td>\n",
       "      <td>-33320.0</td>\n",
       "      <td>-76854.0</td>\n",
       "      <td>-89161.0</td>\n",
       "      <td>60325.0</td>\n",
       "      <td>32355.0</td>\n",
       "      <td>80968.0</td>\n",
       "      <td>64892.0</td>\n",
       "      <td>157965.0</td>\n",
       "      <td>4513.0</td>\n",
       "    </tr>\n",
       "    <tr>\n",
       "      <th>1</th>\n",
       "      <td>175184.0</td>\n",
       "      <td>3130.0</td>\n",
       "      <td>19380.0</td>\n",
       "      <td>-186036.0</td>\n",
       "      <td>36056.0</td>\n",
       "      <td>-33320.0</td>\n",
       "      <td>-76854.0</td>\n",
       "      <td>-89161.0</td>\n",
       "      <td>60325.0</td>\n",
       "      <td>32355.0</td>\n",
       "      <td>80968.0</td>\n",
       "      <td>64892.0</td>\n",
       "      <td>157965.0</td>\n",
       "    </tr>\n",
       "    <tr>\n",
       "      <th>2</th>\n",
       "      <td>84613.0</td>\n",
       "      <td>175184.0</td>\n",
       "      <td>3130.0</td>\n",
       "      <td>19380.0</td>\n",
       "      <td>-186036.0</td>\n",
       "      <td>36056.0</td>\n",
       "      <td>-33320.0</td>\n",
       "      <td>-76854.0</td>\n",
       "      <td>-89161.0</td>\n",
       "      <td>60325.0</td>\n",
       "      <td>32355.0</td>\n",
       "      <td>80968.0</td>\n",
       "      <td>64892.0</td>\n",
       "    </tr>\n",
       "    <tr>\n",
       "      <th>3</th>\n",
       "      <td>93963.0</td>\n",
       "      <td>84613.0</td>\n",
       "      <td>175184.0</td>\n",
       "      <td>3130.0</td>\n",
       "      <td>19380.0</td>\n",
       "      <td>-186036.0</td>\n",
       "      <td>36056.0</td>\n",
       "      <td>-33320.0</td>\n",
       "      <td>-76854.0</td>\n",
       "      <td>-89161.0</td>\n",
       "      <td>60325.0</td>\n",
       "      <td>32355.0</td>\n",
       "      <td>80968.0</td>\n",
       "    </tr>\n",
       "    <tr>\n",
       "      <th>4</th>\n",
       "      <td>23965.0</td>\n",
       "      <td>93963.0</td>\n",
       "      <td>84613.0</td>\n",
       "      <td>175184.0</td>\n",
       "      <td>3130.0</td>\n",
       "      <td>19380.0</td>\n",
       "      <td>-186036.0</td>\n",
       "      <td>36056.0</td>\n",
       "      <td>-33320.0</td>\n",
       "      <td>-76854.0</td>\n",
       "      <td>-89161.0</td>\n",
       "      <td>60325.0</td>\n",
       "      <td>32355.0</td>\n",
       "    </tr>\n",
       "    <tr>\n",
       "      <th>5</th>\n",
       "      <td>82168.0</td>\n",
       "      <td>23965.0</td>\n",
       "      <td>93963.0</td>\n",
       "      <td>84613.0</td>\n",
       "      <td>175184.0</td>\n",
       "      <td>3130.0</td>\n",
       "      <td>19380.0</td>\n",
       "      <td>-186036.0</td>\n",
       "      <td>36056.0</td>\n",
       "      <td>-33320.0</td>\n",
       "      <td>-76854.0</td>\n",
       "      <td>-89161.0</td>\n",
       "      <td>60325.0</td>\n",
       "    </tr>\n",
       "    <tr>\n",
       "      <th>6</th>\n",
       "      <td>-103414.0</td>\n",
       "      <td>82168.0</td>\n",
       "      <td>23965.0</td>\n",
       "      <td>93963.0</td>\n",
       "      <td>84613.0</td>\n",
       "      <td>175184.0</td>\n",
       "      <td>3130.0</td>\n",
       "      <td>19380.0</td>\n",
       "      <td>-186036.0</td>\n",
       "      <td>36056.0</td>\n",
       "      <td>-33320.0</td>\n",
       "      <td>-76854.0</td>\n",
       "      <td>-89161.0</td>\n",
       "    </tr>\n",
       "    <tr>\n",
       "      <th>7</th>\n",
       "      <td>-100472.0</td>\n",
       "      <td>-103414.0</td>\n",
       "      <td>82168.0</td>\n",
       "      <td>23965.0</td>\n",
       "      <td>93963.0</td>\n",
       "      <td>84613.0</td>\n",
       "      <td>175184.0</td>\n",
       "      <td>3130.0</td>\n",
       "      <td>19380.0</td>\n",
       "      <td>-186036.0</td>\n",
       "      <td>36056.0</td>\n",
       "      <td>-33320.0</td>\n",
       "      <td>-76854.0</td>\n",
       "    </tr>\n",
       "    <tr>\n",
       "      <th>8</th>\n",
       "      <td>-26241.0</td>\n",
       "      <td>-100472.0</td>\n",
       "      <td>-103414.0</td>\n",
       "      <td>82168.0</td>\n",
       "      <td>23965.0</td>\n",
       "      <td>93963.0</td>\n",
       "      <td>84613.0</td>\n",
       "      <td>175184.0</td>\n",
       "      <td>3130.0</td>\n",
       "      <td>19380.0</td>\n",
       "      <td>-186036.0</td>\n",
       "      <td>36056.0</td>\n",
       "      <td>-33320.0</td>\n",
       "    </tr>\n",
       "    <tr>\n",
       "      <th>9</th>\n",
       "      <td>41900.0</td>\n",
       "      <td>-26241.0</td>\n",
       "      <td>-100472.0</td>\n",
       "      <td>-103414.0</td>\n",
       "      <td>82168.0</td>\n",
       "      <td>23965.0</td>\n",
       "      <td>93963.0</td>\n",
       "      <td>84613.0</td>\n",
       "      <td>175184.0</td>\n",
       "      <td>3130.0</td>\n",
       "      <td>19380.0</td>\n",
       "      <td>-186036.0</td>\n",
       "      <td>36056.0</td>\n",
       "    </tr>\n",
       "  </tbody>\n",
       "</table>\n",
       "</div>"
      ],
      "text/plain": [
       "   sales_diff   month_1   month_2   month_3   month_4   month_5   month_6  \\\n",
       "0      3130.0   19380.0 -186036.0   36056.0  -33320.0  -76854.0  -89161.0   \n",
       "1    175184.0    3130.0   19380.0 -186036.0   36056.0  -33320.0  -76854.0   \n",
       "2     84613.0  175184.0    3130.0   19380.0 -186036.0   36056.0  -33320.0   \n",
       "3     93963.0   84613.0  175184.0    3130.0   19380.0 -186036.0   36056.0   \n",
       "4     23965.0   93963.0   84613.0  175184.0    3130.0   19380.0 -186036.0   \n",
       "5     82168.0   23965.0   93963.0   84613.0  175184.0    3130.0   19380.0   \n",
       "6   -103414.0   82168.0   23965.0   93963.0   84613.0  175184.0    3130.0   \n",
       "7   -100472.0 -103414.0   82168.0   23965.0   93963.0   84613.0  175184.0   \n",
       "8    -26241.0 -100472.0 -103414.0   82168.0   23965.0   93963.0   84613.0   \n",
       "9     41900.0  -26241.0 -100472.0 -103414.0   82168.0   23965.0   93963.0   \n",
       "\n",
       "    month_7   month_8   month_9  month_10  month_11  month_12  \n",
       "0   60325.0   32355.0   80968.0   64892.0  157965.0    4513.0  \n",
       "1  -89161.0   60325.0   32355.0   80968.0   64892.0  157965.0  \n",
       "2  -76854.0  -89161.0   60325.0   32355.0   80968.0   64892.0  \n",
       "3  -33320.0  -76854.0  -89161.0   60325.0   32355.0   80968.0  \n",
       "4   36056.0  -33320.0  -76854.0  -89161.0   60325.0   32355.0  \n",
       "5 -186036.0   36056.0  -33320.0  -76854.0  -89161.0   60325.0  \n",
       "6   19380.0 -186036.0   36056.0  -33320.0  -76854.0  -89161.0  \n",
       "7    3130.0   19380.0 -186036.0   36056.0  -33320.0  -76854.0  \n",
       "8  175184.0    3130.0   19380.0 -186036.0   36056.0  -33320.0  \n",
       "9   84613.0  175184.0    3130.0   19380.0 -186036.0   36056.0  "
      ]
     },
     "execution_count": 36,
     "metadata": {},
     "output_type": "execute_result"
    }
   ],
   "source": [
    "supverised_data = supverised_data.dropna().reset_index(drop=True)\n",
    "supverised_data.head(10)"
   ]
  },
  {
   "cell_type": "markdown",
   "metadata": {},
   "source": [
    "Split this data into training and test data"
   ]
  },
  {
   "cell_type": "code",
   "execution_count": 37,
   "metadata": {},
   "outputs": [
    {
     "name": "stdout",
     "output_type": "stream",
     "text": [
      "Train Data Shape: (35, 13)\n",
      "Test Data Shape: (12, 13)\n"
     ]
    }
   ],
   "source": [
    "train_data = supverised_data[:-12]\n",
    "test_data = supverised_data[-12:]\n",
    "print('Train Data Shape:', train_data.shape)\n",
    "print('Test Data Shape:', test_data.shape)"
   ]
  },
  {
   "cell_type": "markdown",
   "metadata": {},
   "source": [
    "Scale the feature values to restrict them to a range of (-1,1) using MinMaxScaler()"
   ]
  },
  {
   "cell_type": "code",
   "execution_count": 38,
   "metadata": {},
   "outputs": [
    {
     "data": {
      "text/html": [
       "<style>#sk-container-id-2 {color: black;background-color: white;}#sk-container-id-2 pre{padding: 0;}#sk-container-id-2 div.sk-toggleable {background-color: white;}#sk-container-id-2 label.sk-toggleable__label {cursor: pointer;display: block;width: 100%;margin-bottom: 0;padding: 0.3em;box-sizing: border-box;text-align: center;}#sk-container-id-2 label.sk-toggleable__label-arrow:before {content: \"▸\";float: left;margin-right: 0.25em;color: #696969;}#sk-container-id-2 label.sk-toggleable__label-arrow:hover:before {color: black;}#sk-container-id-2 div.sk-estimator:hover label.sk-toggleable__label-arrow:before {color: black;}#sk-container-id-2 div.sk-toggleable__content {max-height: 0;max-width: 0;overflow: hidden;text-align: left;background-color: #f0f8ff;}#sk-container-id-2 div.sk-toggleable__content pre {margin: 0.2em;color: black;border-radius: 0.25em;background-color: #f0f8ff;}#sk-container-id-2 input.sk-toggleable__control:checked~div.sk-toggleable__content {max-height: 200px;max-width: 100%;overflow: auto;}#sk-container-id-2 input.sk-toggleable__control:checked~label.sk-toggleable__label-arrow:before {content: \"▾\";}#sk-container-id-2 div.sk-estimator input.sk-toggleable__control:checked~label.sk-toggleable__label {background-color: #d4ebff;}#sk-container-id-2 div.sk-label input.sk-toggleable__control:checked~label.sk-toggleable__label {background-color: #d4ebff;}#sk-container-id-2 input.sk-hidden--visually {border: 0;clip: rect(1px 1px 1px 1px);clip: rect(1px, 1px, 1px, 1px);height: 1px;margin: -1px;overflow: hidden;padding: 0;position: absolute;width: 1px;}#sk-container-id-2 div.sk-estimator {font-family: monospace;background-color: #f0f8ff;border: 1px dotted black;border-radius: 0.25em;box-sizing: border-box;margin-bottom: 0.5em;}#sk-container-id-2 div.sk-estimator:hover {background-color: #d4ebff;}#sk-container-id-2 div.sk-parallel-item::after {content: \"\";width: 100%;border-bottom: 1px solid gray;flex-grow: 1;}#sk-container-id-2 div.sk-label:hover label.sk-toggleable__label {background-color: #d4ebff;}#sk-container-id-2 div.sk-serial::before {content: \"\";position: absolute;border-left: 1px solid gray;box-sizing: border-box;top: 0;bottom: 0;left: 50%;z-index: 0;}#sk-container-id-2 div.sk-serial {display: flex;flex-direction: column;align-items: center;background-color: white;padding-right: 0.2em;padding-left: 0.2em;position: relative;}#sk-container-id-2 div.sk-item {position: relative;z-index: 1;}#sk-container-id-2 div.sk-parallel {display: flex;align-items: stretch;justify-content: center;background-color: white;position: relative;}#sk-container-id-2 div.sk-item::before, #sk-container-id-2 div.sk-parallel-item::before {content: \"\";position: absolute;border-left: 1px solid gray;box-sizing: border-box;top: 0;bottom: 0;left: 50%;z-index: -1;}#sk-container-id-2 div.sk-parallel-item {display: flex;flex-direction: column;z-index: 1;position: relative;background-color: white;}#sk-container-id-2 div.sk-parallel-item:first-child::after {align-self: flex-end;width: 50%;}#sk-container-id-2 div.sk-parallel-item:last-child::after {align-self: flex-start;width: 50%;}#sk-container-id-2 div.sk-parallel-item:only-child::after {width: 0;}#sk-container-id-2 div.sk-dashed-wrapped {border: 1px dashed gray;margin: 0 0.4em 0.5em 0.4em;box-sizing: border-box;padding-bottom: 0.4em;background-color: white;}#sk-container-id-2 div.sk-label label {font-family: monospace;font-weight: bold;display: inline-block;line-height: 1.2em;}#sk-container-id-2 div.sk-label-container {text-align: center;}#sk-container-id-2 div.sk-container {/* jupyter's `normalize.less` sets `[hidden] { display: none; }` but bootstrap.min.css set `[hidden] { display: none !important; }` so we also need the `!important` here to be able to override the default hidden behavior on the sphinx rendered scikit-learn.org. See: https://github.com/scikit-learn/scikit-learn/issues/21755 */display: inline-block !important;position: relative;}#sk-container-id-2 div.sk-text-repr-fallback {display: none;}</style><div id=\"sk-container-id-2\" class=\"sk-top-container\"><div class=\"sk-text-repr-fallback\"><pre>MinMaxScaler(feature_range=(-1, 1))</pre><b>In a Jupyter environment, please rerun this cell to show the HTML representation or trust the notebook. <br />On GitHub, the HTML representation is unable to render, please try loading this page with nbviewer.org.</b></div><div class=\"sk-container\" hidden><div class=\"sk-item\"><div class=\"sk-estimator sk-toggleable\"><input class=\"sk-toggleable__control sk-hidden--visually\" id=\"sk-estimator-id-2\" type=\"checkbox\" checked><label for=\"sk-estimator-id-2\" class=\"sk-toggleable__label sk-toggleable__label-arrow\">MinMaxScaler</label><div class=\"sk-toggleable__content\"><pre>MinMaxScaler(feature_range=(-1, 1))</pre></div></div></div></div></div>"
      ],
      "text/plain": [
       "MinMaxScaler(feature_range=(-1, 1))"
      ]
     },
     "execution_count": 38,
     "metadata": {},
     "output_type": "execute_result"
    }
   ],
   "source": [
    "scaler = MinMaxScaler(feature_range=(-1,1))\n",
    "scaler.fit(train_data)"
   ]
  },
  {
   "cell_type": "code",
   "execution_count": 39,
   "metadata": {},
   "outputs": [],
   "source": [
    "train_data = scaler.transform(train_data)\n",
    "test_data = scaler.transform(test_data)"
   ]
  },
  {
   "cell_type": "code",
   "execution_count": 40,
   "metadata": {},
   "outputs": [
    {
     "name": "stdout",
     "output_type": "stream",
     "text": [
      "X_train Shape: (35, 12)\n",
      "y_train Shape: (35,)\n",
      "X_test Shape: (12, 12)\n",
      "y_test Shape: (12,)\n"
     ]
    }
   ],
   "source": [
    "X_train, y_train = train_data[:,1:], train_data[:,0:1]\n",
    "X_test, y_test = test_data[:,1:], test_data[:,0:1]\n",
    "y_train = y_train.ravel()\n",
    "y_test = y_test.ravel()\n",
    "print('X_train Shape:', X_train.shape)\n",
    "print('y_train Shape:', y_train.shape)\n",
    "print('X_test Shape:', X_test.shape)\n",
    "print('y_test Shape:', y_test.shape)\n"
   ]
  },
  {
   "cell_type": "markdown",
   "metadata": {},
   "source": [
    "Make a prediction data frame to merge the predicted sale prices of all the trained algorithms"
   ]
  },
  {
   "cell_type": "code",
   "execution_count": 41,
   "metadata": {},
   "outputs": [
    {
     "name": "stderr",
     "output_type": "stream",
     "text": [
      "C:\\Users\\Administrator\\AppData\\Local\\Temp\\ipykernel_8684\\3984850881.py:1: FutureWarning: The behavior of `series[i:j]` with an integer-dtype index is deprecated. In a future version, this will be treated as *label-based* indexing, consistent with e.g. `series[i]` lookups. To retain the old behavior, use `series.iloc[i:j]`. To get the future behavior, use `series.loc[i:j]`.\n",
      "  sales_dates = monthly_sales['date'][-12:].reset_index(drop=True)\n"
     ]
    }
   ],
   "source": [
    "sales_dates = monthly_sales['date'][-12:].reset_index(drop=True)\n",
    "predict_df = pd.DataFrame(sales_dates)"
   ]
  },
  {
   "cell_type": "markdown",
   "metadata": {},
   "source": [
    "Extract the actual monthly sale values of the last 13 months since they correspond to test data set. These values will later be used to find the predicted sale prices from the predicted output of sale difference via trained models"
   ]
  },
  {
   "cell_type": "code",
   "execution_count": 42,
   "metadata": {},
   "outputs": [
    {
     "name": "stderr",
     "output_type": "stream",
     "text": [
      "C:\\Users\\Administrator\\AppData\\Local\\Temp\\ipykernel_8684\\2173393283.py:1: FutureWarning: The behavior of `series[i:j]` with an integer-dtype index is deprecated. In a future version, this will be treated as *label-based* indexing, consistent with e.g. `series[i]` lookups. To retain the old behavior, use `series.iloc[i:j]`. To get the future behavior, use `series.loc[i:j]`.\n",
      "  act_sales = monthly_sales['sales'][-13:].to_list()\n"
     ]
    }
   ],
   "source": [
    "act_sales = monthly_sales['sales'][-13:].to_list()"
   ]
  },
  {
   "cell_type": "markdown",
   "metadata": {},
   "source": [
    "#### Linear Regression"
   ]
  },
  {
   "cell_type": "markdown",
   "metadata": {},
   "source": [
    "Use the ‘predict’ function of the linear regression model to get the predicted outputs using the test data"
   ]
  },
  {
   "cell_type": "code",
   "execution_count": 43,
   "metadata": {},
   "outputs": [],
   "source": [
    "linreg_model = LinearRegression()\n",
    "linreg_model.fit(X_train, y_train)\n",
    "linreg_pred = linreg_model.predict(X_test)"
   ]
  },
  {
   "cell_type": "markdown",
   "metadata": {},
   "source": [
    "Transform the predicted values back to their original scale"
   ]
  },
  {
   "cell_type": "code",
   "execution_count": 44,
   "metadata": {},
   "outputs": [],
   "source": [
    "linreg_pred = linreg_pred.reshape(-1,1)\n",
    "linreg_pred_test_set = np.concatenate([linreg_pred,X_test], axis=1)\n",
    "linreg_pred_test_set = scaler.inverse_transform(linreg_pred_test_set)"
   ]
  },
  {
   "cell_type": "markdown",
   "metadata": {},
   "source": [
    "Calculate the predicted sale values from the difference values and append that to the predicted data frame which was created earlier"
   ]
  },
  {
   "cell_type": "code",
   "execution_count": 45,
   "metadata": {},
   "outputs": [],
   "source": [
    "result_list = []\n",
    "for index in range(0, len(linreg_pred_test_set)):\n",
    "    result_list.append(linreg_pred_test_set[index][0] + act_sales[index])\n",
    "linreg_pred_series = pd.Series(result_list,name='linreg_pred')\n",
    "predict_df = predict_df.merge(linreg_pred_series, left_index=True, right_index=True)"
   ]
  },
  {
   "cell_type": "markdown",
   "metadata": {},
   "source": [
    "Evaluate various metrics for the trained Linear Regression model by comparing the predicted sale values with the actual sale values"
   ]
  },
  {
   "cell_type": "code",
   "execution_count": 46,
   "metadata": {},
   "outputs": [
    {
     "name": "stdout",
     "output_type": "stream",
     "text": [
      "Linear Regression RMSE:  16221.272385416896\n",
      "Linear Regression MAE:  12433.184266490784\n",
      "Linear Regression R2 Score:  0.9906152516380968\n"
     ]
    },
    {
     "name": "stderr",
     "output_type": "stream",
     "text": [
      "C:\\Users\\Administrator\\AppData\\Local\\Temp\\ipykernel_8684\\3553433356.py:1: FutureWarning: The behavior of `series[i:j]` with an integer-dtype index is deprecated. In a future version, this will be treated as *label-based* indexing, consistent with e.g. `series[i]` lookups. To retain the old behavior, use `series.iloc[i:j]`. To get the future behavior, use `series.loc[i:j]`.\n",
      "  linreg_rmse = np.sqrt(mean_squared_error(predict_df['linreg_pred'], monthly_sales['sales'][-12:]))\n",
      "C:\\Users\\Administrator\\AppData\\Local\\Temp\\ipykernel_8684\\3553433356.py:2: FutureWarning: The behavior of `series[i:j]` with an integer-dtype index is deprecated. In a future version, this will be treated as *label-based* indexing, consistent with e.g. `series[i]` lookups. To retain the old behavior, use `series.iloc[i:j]`. To get the future behavior, use `series.loc[i:j]`.\n",
      "  linreg_mae = mean_absolute_error(predict_df['linreg_pred'], monthly_sales['sales'][-12:])\n",
      "C:\\Users\\Administrator\\AppData\\Local\\Temp\\ipykernel_8684\\3553433356.py:3: FutureWarning: The behavior of `series[i:j]` with an integer-dtype index is deprecated. In a future version, this will be treated as *label-based* indexing, consistent with e.g. `series[i]` lookups. To retain the old behavior, use `series.iloc[i:j]`. To get the future behavior, use `series.loc[i:j]`.\n",
      "  linreg_r2 = r2_score(predict_df['linreg_pred'], monthly_sales['sales'][-12:])\n"
     ]
    }
   ],
   "source": [
    "linreg_rmse = np.sqrt(mean_squared_error(predict_df['linreg_pred'], monthly_sales['sales'][-12:]))\n",
    "linreg_mae = mean_absolute_error(predict_df['linreg_pred'], monthly_sales['sales'][-12:])\n",
    "linreg_r2 = r2_score(predict_df['linreg_pred'], monthly_sales['sales'][-12:])\n",
    "print('Linear Regression RMSE: ', linreg_rmse)\n",
    "print('Linear Regression MAE: ', linreg_mae)\n",
    "print('Linear Regression R2 Score: ', linreg_r2)"
   ]
  },
  {
   "cell_type": "markdown",
   "metadata": {},
   "source": [
    "Visualize the predictions against the actual values"
   ]
  },
  {
   "cell_type": "code",
   "execution_count": 47,
   "metadata": {},
   "outputs": [
    {
     "data": {
      "image/png": "[encoded data removed]",
      "text/plain": [
       "<Figure size 1080x504 with 1 Axes>"
      ]
     },
     "metadata": {
      "needs_background": "light"
     },
     "output_type": "display_data"
    }
   ],
   "source": [
    "plt.figure(figsize=(15,7))\n",
    "plt.plot(monthly_sales['date'], monthly_sales['sales'])\n",
    "plt.plot(predict_df['date'], predict_df['linreg_pred'])\n",
    "plt.title(\"Customer Sales Forecast using Linear Regression\")\n",
    "plt.xlabel(\"Date\")\n",
    "plt.ylabel(\"Sales\")\n",
    "plt.legend([\"Original Sales\", \"Predicted Sales\"])\n",
    "plt.show()"
   ]
  }
 ],
 "metadata": {
  "kernelspec": {
   "display_name": "Python 3.10.0 64-bit",
   "language": "python",
   "name": "python3"
  },
  "language_info": {
   "codemirror_mode": {
    "name": "ipython",
    "version": 3
   },
   "file_extension": ".py",
   "mimetype": "text/x-python",
   "name": "python",
   "nbconvert_exporter": "python",
   "pygments_lexer": "ipython3",
   "version": "3.10.0"
  },
  "orig_nbformat": 4,
  "vscode": {
   "interpreter": {
    "hash": "369f2c481f4da34e4445cda3fffd2e751bd1c4d706f27375911949ba6bb62e1c"
   }
  }
 },
 "nbformat": 4,
 "nbformat_minor": 2
}
